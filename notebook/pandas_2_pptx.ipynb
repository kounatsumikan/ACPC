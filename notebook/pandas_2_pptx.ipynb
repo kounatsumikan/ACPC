{
 "cells": [
  {
   "cell_type": "code",
   "execution_count": 111,
   "metadata": {},
   "outputs": [],
   "source": [
    "\n",
    "from pptx.util import Inches, Pt, Cm\n",
    "from pptx.chart.data import CategoryChartData\n",
    "from pptx.enum.chart import XL_CHART_TYPE"
   ]
  },
  {
   "cell_type": "code",
   "execution_count": 112,
   "metadata": {},
   "outputs": [],
   "source": [
    "import pandas as pd"
   ]
  },
  {
   "cell_type": "code",
   "execution_count": 136,
   "metadata": {},
   "outputs": [],
   "source": [
    "from pptx import Presentation\n",
    "class pandas_2_pptx():\n",
    "    def __init__(self, fname=None):\n",
    "        if(fname==None):\n",
    "            self.prs = Presentation()\n",
    "        else:\n",
    "            self.prs = Presentation(fname)\n",
    "            print(f\"{fname}を読み込みました。\\n上書きに気をつけてください\")\n",
    "        \n",
    "    def add_title_slide(self, title_txt):\n",
    "        slide = self.prs.slides.add_slide(self.prs.slide_layouts[0])\n",
    "        title_slide = slide.shapes.title\n",
    "        title_slide.text = title_txt\n",
    "        return title_slide\n",
    "    \n",
    "    def add_slide(self, title_txt):\n",
    "        slide = self.prs.slides.add_slide(self.prs.slide_layouts[1])\n",
    "        title = slide.shapes.title\n",
    "        title.text = title_txt\n",
    "        slide_mn = slide_manager(slide)\n",
    "        return slide_mn\n",
    "\n",
    "    \n",
    "    def save(self, fname):\n",
    "        self.prs.save(fname)        \n",
    "        \n",
    "class slide_manager():\n",
    "    def __init__(self, slide):\n",
    "        self.slide = slide\n",
    "        self.slide_object_list = []\n",
    "        self.df_list = []\n",
    "        \n",
    "    def add_chart(self,df):\n",
    "        chart_data = self.pandas_genelate_linechart(df)\n",
    "        self.df_list.append(df)\n",
    "        self.slide_object_list.append([\"chart\",chart_data])\n",
    "        \n",
    "    def add_table(self,df):\n",
    "        rows = len(df)+1\n",
    "        cols = len(df.columns)+1\n",
    "        self.df_list.append(df)\n",
    "        self.slide_object_list.append([\"table\",rows,cols])\n",
    "        \n",
    "    def pandas_genelate_table(self, table, df):\n",
    "        table.cell(0, 0).text = \"index\"\n",
    "        for i,column in enumerate(df.columns):\n",
    "            table.cell(0, i + 1).text = column\n",
    "\n",
    "        for i,index in enumerate(df.index):\n",
    "            table.cell(i + 1, 0).text = str(index)\n",
    "\n",
    "        for row in range(df.shape[0]):\n",
    "            for line in range(df.shape[1]):\n",
    "                table.cell(row+1, line+1).text = str(df.values[row,line])\n",
    "        \n",
    "    def pandas_genelate_linechart(self, df):\n",
    "        chart_data = CategoryChartData()\n",
    "        chart_data.categories = df.index\n",
    "        for column in df.columns:\n",
    "            chart_data.add_series(column, df[column])\n",
    "        return chart_data\n",
    "    \n",
    "        \n",
    "    def cordinate_shape(self):\n",
    "        object_num = len(self.slide_object_list)\n",
    "        split_len = Cm(0.43)\n",
    "        hight = Cm(14.71)\n",
    "        width = Cm(24.4)\n",
    "        left = Inches(0.17)\n",
    "        top = Inches(1.5)\n",
    "        shape_list = []\n",
    "        \n",
    "        if(object_num==1):\n",
    "            shape_list.append([left + split_len * 5 ,\n",
    "                               top + split_len*4,\n",
    "                               Cm(20.4),\n",
    "                               Cm(11.5)])\n",
    "        \n",
    "        if(object_num<=2):\n",
    "            width = int((width - split_len) / 2)\n",
    "            hight = int((hight - split_len*2) / 1)\n",
    "            for i in range(object_num):\n",
    "                shape_list.append([left + (width + split_len) * i, top, width, hight])\n",
    "            \n",
    "        elif(object_num<=4):\n",
    "            width = int((width - split_len) / 2)\n",
    "            hight = int((hight - split_len*2) / 2)\n",
    "            for i in range(2):\n",
    "                for j in range(2):\n",
    "                    shape_list.append([left + (width + split_len) * j, top + (hight + split_len) * i, width, hight])\n",
    "            \n",
    "        elif(object_num<=6):\n",
    "            width = int((width - split_len * 2) / 3)\n",
    "            hight = int((hight - split_len*2) / 2)\n",
    "            for i in range(2):\n",
    "                for j in range(3):\n",
    "                    shape_list.append([left + (width + split_len) * j, top + (hight + split_len) * i, width, hight])\n",
    "        return shape_list\n",
    "    \n",
    "    def generate(self):\n",
    "        shape_list = self.cordinate_shape()\n",
    "        for n,i in enumerate(self.slide_object_list):\n",
    "            if( i[0]==\"table\"):\n",
    "                table = self.slide.shapes.add_table(i[1],#row\n",
    "                                                    i[2],#col\n",
    "                                                    shape_list[n][0],#left\n",
    "                                                    shape_list[n][1],#top\n",
    "                                                    int(shape_list[n][2]),#width\n",
    "                                                    int(shape_list[n][3])#hight\n",
    "                                                   ).table\n",
    "                self.pandas_genelate_table(table,self.df_list[n])\n",
    "            \n",
    "            elif( i[0]==\"chart\"):\n",
    "                chart = self.slide.shapes.add_chart(XL_CHART_TYPE.LINE,\n",
    "                                                    shape_list[n][0],\n",
    "                                                    shape_list[n][1],\n",
    "                                                    shape_list[n][2],\n",
    "                                                    shape_list[n][3],\n",
    "                                                    i[1]\n",
    "                                                   ).chart\n",
    "                chart.has_legend = True\n",
    "                chart.legend.include_in_layout = False\n",
    "        "
   ]
  },
  {
   "cell_type": "code",
   "execution_count": 137,
   "metadata": {},
   "outputs": [],
   "source": [
    "test_df = pd.DataFrame({\"a\":[1,2,3,4,5],\"b\":[-12,-23,-34,-45,-56],\"c\":[12,11,5,9,20]},index=[0,1,2,3,4])"
   ]
  },
  {
   "cell_type": "code",
   "execution_count": 138,
   "metadata": {},
   "outputs": [
    {
     "data": {
      "text/html": [
       "<div>\n",
       "<style scoped>\n",
       "    .dataframe tbody tr th:only-of-type {\n",
       "        vertical-align: middle;\n",
       "    }\n",
       "\n",
       "    .dataframe tbody tr th {\n",
       "        vertical-align: top;\n",
       "    }\n",
       "\n",
       "    .dataframe thead th {\n",
       "        text-align: right;\n",
       "    }\n",
       "</style>\n",
       "<table border=\"1\" class=\"dataframe\">\n",
       "  <thead>\n",
       "    <tr style=\"text-align: right;\">\n",
       "      <th></th>\n",
       "      <th>a</th>\n",
       "      <th>b</th>\n",
       "      <th>c</th>\n",
       "    </tr>\n",
       "  </thead>\n",
       "  <tbody>\n",
       "    <tr>\n",
       "      <th>0</th>\n",
       "      <td>1</td>\n",
       "      <td>-12</td>\n",
       "      <td>12</td>\n",
       "    </tr>\n",
       "    <tr>\n",
       "      <th>1</th>\n",
       "      <td>2</td>\n",
       "      <td>-23</td>\n",
       "      <td>11</td>\n",
       "    </tr>\n",
       "    <tr>\n",
       "      <th>2</th>\n",
       "      <td>3</td>\n",
       "      <td>-34</td>\n",
       "      <td>5</td>\n",
       "    </tr>\n",
       "    <tr>\n",
       "      <th>3</th>\n",
       "      <td>4</td>\n",
       "      <td>-45</td>\n",
       "      <td>9</td>\n",
       "    </tr>\n",
       "    <tr>\n",
       "      <th>4</th>\n",
       "      <td>5</td>\n",
       "      <td>-56</td>\n",
       "      <td>20</td>\n",
       "    </tr>\n",
       "  </tbody>\n",
       "</table>\n",
       "</div>"
      ],
      "text/plain": [
       "   a   b   c\n",
       "0  1 -12  12\n",
       "1  2 -23  11\n",
       "2  3 -34   5\n",
       "3  4 -45   9\n",
       "4  5 -56  20"
      ]
     },
     "execution_count": 138,
     "metadata": {},
     "output_type": "execute_result"
    }
   ],
   "source": [
    "test_df"
   ]
  },
  {
   "cell_type": "code",
   "execution_count": 139,
   "metadata": {},
   "outputs": [
    {
     "name": "stdout",
     "output_type": "stream",
     "text": [
      "test.pptxを読み込みました。\n",
      "上書きに気をつけてください\n"
     ]
    }
   ],
   "source": [
    "pd2pptx = pandas_2_pptx(\"test.pptx\")"
   ]
  },
  {
   "cell_type": "code",
   "execution_count": 140,
   "metadata": {},
   "outputs": [],
   "source": [
    "slide1 = pd2pptx.add_title_slide(\"test\")"
   ]
  },
  {
   "cell_type": "code",
   "execution_count": 141,
   "metadata": {},
   "outputs": [],
   "source": [
    "slide2 = pd2pptx.add_slide(\"test\")\n",
    "slide2.add_table(test_df)\n",
    "slide2.generate()"
   ]
  },
  {
   "cell_type": "code",
   "execution_count": 142,
   "metadata": {},
   "outputs": [],
   "source": [
    "slide3 = pd2pptx.add_slide(\"test\")\n",
    "slide3.add_chart(test_df)\n",
    "slide3.generate()"
   ]
  },
  {
   "cell_type": "code",
   "execution_count": 143,
   "metadata": {},
   "outputs": [],
   "source": [
    "slide4 = pd2pptx.add_slide(\"test\")\n",
    "slide4.add_chart(test_df)\n",
    "slide4.add_table(test_df)\n",
    "slide4.generate()"
   ]
  },
  {
   "cell_type": "code",
   "execution_count": 144,
   "metadata": {},
   "outputs": [],
   "source": [
    "slide5 = pd2pptx.add_slide(\"test\")\n",
    "slide5.add_chart(test_df)\n",
    "slide5.add_table(test_df)\n",
    "slide5.add_table(test_df)\n",
    "slide5.add_table(test_df)\n",
    "slide5.generate()"
   ]
  },
  {
   "cell_type": "code",
   "execution_count": 145,
   "metadata": {},
   "outputs": [],
   "source": [
    "slide6 = pd2pptx.add_slide(\"test\")\n",
    "slide6.add_chart(test_df)\n",
    "slide6.add_chart(test_df)\n",
    "slide6.add_chart(test_df)\n",
    "slide6.add_table(test_df)\n",
    "slide6.add_table(test_df)\n",
    "\n",
    "slide6.generate()"
   ]
  },
  {
   "cell_type": "code",
   "execution_count": 146,
   "metadata": {},
   "outputs": [],
   "source": [
    "pd2pptx.save(\"test2.pptx\")"
   ]
  },
  {
   "cell_type": "code",
   "execution_count": null,
   "metadata": {},
   "outputs": [],
   "source": []
  },
  {
   "cell_type": "code",
   "execution_count": null,
   "metadata": {},
   "outputs": [],
   "source": []
  }
 ],
 "metadata": {
  "kernelspec": {
   "display_name": "Python 3",
   "language": "python",
   "name": "python3"
  },
  "language_info": {
   "codemirror_mode": {
    "name": "ipython",
    "version": 3
   },
   "file_extension": ".py",
   "mimetype": "text/x-python",
   "name": "python",
   "nbconvert_exporter": "python",
   "pygments_lexer": "ipython3",
   "version": "3.7.2"
  }
 },
 "nbformat": 4,
 "nbformat_minor": 2
}
