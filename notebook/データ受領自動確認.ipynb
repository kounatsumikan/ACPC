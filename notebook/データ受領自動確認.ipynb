{
 "cells": [
  {
   "cell_type": "code",
   "execution_count": 2,
   "metadata": {},
   "outputs": [],
   "source": [
    "import chardet\n",
    "import re\n",
    "import os\n",
    "from glob import glob\n",
    "import pandas as pd\n",
    "import datetime\n",
    "import collections\n",
    "import random\n",
    "from pandas_2_pptx.pandas_2_pptx import pandas_2_pptx"
   ]
  },
  {
   "cell_type": "code",
   "execution_count": 5,
   "metadata": {},
   "outputs": [],
   "source": [
    "class Acpc():\n",
    "\n",
    "    def __init__(self, dir_path, pptx_title):\n",
    "        desc_list = []\n",
    "        detail_list = []\n",
    "        self.f_list = make_file_list(dir_path)\n",
    "        for n,fname in enumerate(self.f_list):\n",
    "            try:\n",
    "                df = pd.read_csv(fname)\n",
    "            except UnicodeDecodeError:\n",
    "                df = pd.read_csv(fname,encoding='cp932')\n",
    "            datetime_list = check_datetime_column(df)\n",
    "            detail_list.append(self.__data_details(fname, datetime_list))\n",
    "            desc = self.describe(df)    \n",
    "            desc[[\"mean\",\t\"std\",\t\"min\",\t\"1%\",\t\"10%\",\t\"50%\",\t\"90%\",\t\"99%\",\t\"max\"]] = desc[[\"mean\",\t\"std\",\t\"min\",\t\"1%\",\t\"10%\",\t\"50%\",\t\"90%\",\t\"99%\",\t\"max\"]].astype(float).round(2)\n",
    "            desc[[\"count\"]] = desc[[\"count\"]].astype(int)\n",
    "            desc = desc.round(2)\n",
    "            desc_list.append(desc)\n",
    "        pptx = pandas_2_pptx()\n",
    "        title_slide = pptx.add_title_slide(pptx_title)\n",
    "        details = pd.concat(detail_list, axis=1, sort = False)\n",
    "        details.columns = fname_list\n",
    "        slide1 = pptx.add_slide(\"データ概要\")\n",
    "        slide1.add_table(details)\n",
    "        slide1.generate()\n",
    "        for n, i in enumerate(desc_list):\n",
    "            slide2 = pptx.add_slide(f\"基礎集計{fname_list[n]}\")\n",
    "            slide2.add_table(i)\n",
    "            slide2.generate()\n",
    "        pptx.save(f\"{pptx_title}.pptx\")\n",
    "\n",
    "\n",
    "\n",
    "    def __delimiter_check(self, fname):\n",
    "        \"\"\"区切り文字をチェックする関数\n",
    "        \"\"\"\n",
    "        data = open(fname, \"r\").read()\n",
    "        try:\n",
    "            df = pd.read_csv(fname)\n",
    "        except UnicodeDecodeError:\n",
    "            df = pd.read_csv(fname,encoding='cp932')\n",
    "        splitter = 0\n",
    "        split_list = []\n",
    "        for n,rand in enumerate([random.randint(0, len(df)) for num in range(5)]):\n",
    "            li = []\n",
    "            for i in data.split(\"\\n\")[rand]:\n",
    "                li.append(i)\n",
    "            split_list.append([key for key, value in collections.Counter(li).items() if value == df.shape[1] - 1])\n",
    "            try:\n",
    "                delimiter = set(split_list[n-1]) & set(split_list[n]) & delimiter\n",
    "            except:\n",
    "                delimiter = set(split_list[n])\n",
    "        if(len(delimiter) != 1):\n",
    "            delimiter = None\n",
    "        else:\n",
    "            delimiter = list(delimiter)[0]\n",
    "        return delimiter\n",
    "\n",
    "    def __encoding_check(self, fname):\n",
    "        \"\"\"encodingをチェックする関数\n",
    "        \"\"\"\n",
    "        data = open(fname, \"rb\")\n",
    "        enc = chardet.detect(data.read())[\"encoding\"]\n",
    "        return enc\n",
    "\n",
    "    def __data_details(self, fname, parse_dates=None):\n",
    "        \"\"\"csvデータを読み込んで、詳細情報を集計している関数\n",
    "        \"\"\"\n",
    "        try:\n",
    "            df = pd.read_csv(fname, parse_dates = parse_dates)\n",
    "        except UnicodeDecodeError:\n",
    "            df = pd.read_csv(fname,encoding='cp932', parse_dates = parse_dates)\n",
    "        delimiter = self.__delimiter_check(fname)\n",
    "        encoding = self.__encoding_check(fname)\n",
    "        details_list = [\n",
    "            delimiter,\n",
    "            encoding,\n",
    "            df.shape[0],\n",
    "            df.shape[1],\n",
    "        ]\n",
    "        index_list = [\"区切り文字\",\"文字コード\",\"行数\",\"カラム数\"]\n",
    "        datetime_col = df.columns[(df.dtypes == '<M8[ns]').values]\n",
    "        period_list = []\n",
    "        for n, i in enumerate(datetime_col):\n",
    "            index_list.append(f\"データ期間[{i}]\")\n",
    "            period_list.append(f\"{df[i].min()} ~ {df[i].max()}\")\n",
    "            details_list.append(period_list[n])\n",
    "        return pd.Series(details_list, index = index_list)\n"
   ]
  },
  {
   "cell_type": "code",
   "execution_count": 20,
   "metadata": {},
   "outputs": [],
   "source": [
    "def describe(data, percentiles=[0.01, 0.1, 0.9, 0.99],\n",
    "             include='all', exclude=None, std_outlier=3):\n",
    "    \"\"\"\n",
    "    各種統計量を算出.\n",
    "\n",
    "    Args:\n",
    "        data (pandas.DataFrame): 統計量を算出するデータ.\n",
    "        percentiles (list-like of numbers): 分位点.\n",
    "        include ('all', list-like of dtypes or None): 統計量を算出する変数.\n",
    "        exclude (list-like of dtypes or None (default)): 統計量を算出しない変数.\n",
    "        std_outlier (int): 外れ値を判定する際の係数.\n",
    "            「平均 +- 標準偏差 × std_outlier」の範囲外のレコードを外れ値と判定する.\n",
    "\n",
    "    Returns:\n",
    "        desc (pandas.DataFrame): 各種統計量・外れ値の件数・欠損率・データ型.\n",
    "\n",
    "    \"\"\"\n",
    "    desc = data.select_dtypes(exclude=[\"datetime\"]).describe(percentiles=percentiles, include=include, exclude=exclude).T\n",
    "    null_rate = (data.isnull().sum() / len(data)).to_frame('欠損率')\n",
    "    dtypes = data.dtypes.to_frame('dtypes')\n",
    "    data_int = data.select_dtypes(include=['int64', 'object'], exclude=[])\n",
    "    unique = data_int.nunique().to_frame('unique')\n",
    "    data_num = data.select_dtypes(['float', 'int'])\n",
    "    desc_num = desc.loc[data_num.columns]\n",
    "    lower = data_num < desc_num['mean'] - desc_num['std'] * std_outlier\n",
    "    upper = data_num > desc_num['mean'] + desc_num['std'] * std_outlier\n",
    "    lower = lower.sum().to_frame(f'mean-{std_outlier}std')\n",
    "    upper = upper.sum().to_frame(f'mean+{std_outlier}std')\n",
    "    #skew = data_num.skew().to_frame(f'歪度')\n",
    "    #kurt = data_num.kurt().to_frame(f'尖度')\n",
    "\n",
    "    args_merge = dict(left_index=True, right_index=True, how='left')\n",
    "    desc = (\n",
    "        desc\n",
    "        .merge(null_rate, **args_merge)\n",
    "        .merge(dtypes, **args_merge)\n",
    "        #.merge(skew, **args_merge)\n",
    "        #.merge(kurt, **args_merge)\n",
    "    )\n",
    "    desc[\"unique\"] = unique\n",
    "    return desc[['unique', 'count', '欠損率', 'mean', 'std', 'min', '1%', '10%', '50%', '90%', '99%', 'max', 'dtypes']]"
   ]
  },
  {
   "cell_type": "code",
   "execution_count": 19,
   "metadata": {},
   "outputs": [],
   "source": [
    "def check_datetime_column(df):\n",
    "    \"\"\"\n",
    "    Returns:\n",
    "        df (pandas.DataFrame): object型の特定のカラムをdatetime型のカラムに変換したdataframe\n",
    "        datetime_columns (list): datetime型に変換したカラム名のリスト\n",
    "    \"\"\"\n",
    "    for column in df.select_dtypes(include='object').columns:\n",
    "        try:\n",
    "            df[column] = pd.to_datetime(df[column])\n",
    "            print(i,\"をdatetime型に変換しました\")\n",
    "        except:\n",
    "            continue\n",
    "    datetime_columns = df.select_dtypes(include='datetime64[ns]').columns.values\n",
    "    print(datetime_columns)\n",
    "    return df, datetime_columns"
   ]
  },
  {
   "cell_type": "code",
   "execution_count": 11,
   "metadata": {},
   "outputs": [],
   "source": [
    "def make_file_list(path, f_type = \"csv\"):\n",
    "    \"\"\"\n",
    "    Returns:\n",
    "        f_list (list): ディレクトリ内のファイルリスト\n",
    "    \"\"\"\n",
    "    f_list = glob(f'{path}{os.path.sep}**{os.path.sep}*.{f_type}',recursive=True)\n",
    "    return f_list"
   ]
  },
  {
   "cell_type": "code",
   "execution_count": 5,
   "metadata": {},
   "outputs": [],
   "source": [
    "fname_list = [\"sample.csv\", \"purpose.csv\"]\n",
    "datetime_list = [[\"k\", \"l\"], None]"
   ]
  },
  {
   "cell_type": "code",
   "execution_count": 6,
   "metadata": {},
   "outputs": [
    {
     "name": "stdout",
     "output_type": "stream",
     "text": [
      "Wall time: 777 ms\n"
     ]
    }
   ],
   "source": [
    "%%time\n",
    "faaaaa(fname_list,datetime_list,\"test\")"
   ]
  },
  {
   "cell_type": "code",
   "execution_count": 29,
   "metadata": {},
   "outputs": [
    {
     "data": {
      "text/plain": [
       "a           float64\n",
       "b           float64\n",
       "c           float64\n",
       "d           float64\n",
       "e           float64\n",
       "f           float64\n",
       "g           float64\n",
       "h           float64\n",
       "i           float64\n",
       "j             int64\n",
       "k    datetime64[ns]\n",
       "l    datetime64[ns]\n",
       "dtype: object"
      ]
     },
     "execution_count": 29,
     "metadata": {},
     "output_type": "execute_result"
    }
   ],
   "source": [
    "test_df.dtypes"
   ]
  },
  {
   "cell_type": "markdown",
   "metadata": {},
   "source": [
    "# 実験コード"
   ]
  },
  {
   "cell_type": "code",
   "execution_count": 28,
   "metadata": {},
   "outputs": [],
   "source": [
    "from pptx import Presentation\n",
    "from pptx.util import Inches\n",
    "\n",
    "prs = Presentation()\n",
    "title_only_slide_layout = prs.slide_layouts[5]\n",
    "slide = prs.slides.add_slide(title_only_slide_layout)\n",
    "shapes = slide.shapes\n",
    "\n",
    "shapes.title.text = 'Adding a Table'\n",
    "\n",
    "rows = cols = 2\n",
    "left = top = Inches(2.0)\n",
    "width = Inches(6.0)\n",
    "height = Inches(0.8)"
   ]
  },
  {
   "cell_type": "code",
   "execution_count": 29,
   "metadata": {},
   "outputs": [],
   "source": [
    "table = shapes.add_table(rows, cols, left, top, width, height).table"
   ]
  },
  {
   "cell_type": "code",
   "execution_count": 63,
   "metadata": {},
   "outputs": [],
   "source": [
    "from pptx.util import Pt,Cm"
   ]
  },
  {
   "cell_type": "code",
   "execution_count": 32,
   "metadata": {},
   "outputs": [],
   "source": [
    "# set column widths\n",
    "table.columns[0].width = Inches(2.0)\n",
    "table.columns[1].width = Inches(4.0)\n",
    "\n",
    "# write column headings\n",
    "run = table.cell(0, 0).text_frame.paragraphs[0].add_run()\n",
    "run.text = 'Foo'\n",
    "run.font.size = Pt(22)\n",
    "\n",
    "table.cell(0, 1).text = 'Bar'\n",
    "\n",
    "# write body cells\n",
    "table.cell(1, 0).text = 'Baz'\n",
    "table.cell(1, 1).text = 'Qux'\n",
    "\n",
    "prs.save('test22222.pptx')"
   ]
  },
  {
   "cell_type": "code",
   "execution_count": 33,
   "metadata": {},
   "outputs": [],
   "source": [
    "df = pd.read_csv(\"sample.csv\")"
   ]
  },
  {
   "cell_type": "code",
   "execution_count": 62,
   "metadata": {},
   "outputs": [],
   "source": [
    "def calculation_Pt(df,width_cm):\n",
    "    column_num = df.shape[1] + 1\n",
    "    return width_cm/column_num\n"
   ]
  },
  {
   "cell_type": "code",
   "execution_count": 65,
   "metadata": {},
   "outputs": [
    {
     "data": {
      "text/plain": [
       "12600"
      ]
     },
     "execution_count": 65,
     "metadata": {},
     "output_type": "execute_result"
    }
   ],
   "source": [
    "Cm(0.035)"
   ]
  },
  {
   "cell_type": "code",
   "execution_count": 66,
   "metadata": {},
   "outputs": [
    {
     "data": {
      "text/plain": [
       "12700"
      ]
     },
     "execution_count": 66,
     "metadata": {},
     "output_type": "execute_result"
    }
   ],
   "source": [
    "Pt(1)"
   ]
  }
 ],
 "metadata": {
  "kernelspec": {
   "display_name": "Python 3",
   "language": "python",
   "name": "python3"
  },
  "language_info": {
   "codemirror_mode": {
    "name": "ipython",
    "version": 3
   },
   "file_extension": ".py",
   "mimetype": "text/x-python",
   "name": "python",
   "nbconvert_exporter": "python",
   "pygments_lexer": "ipython3",
   "version": "3.7.2"
  }
 },
 "nbformat": 4,
 "nbformat_minor": 2
}
